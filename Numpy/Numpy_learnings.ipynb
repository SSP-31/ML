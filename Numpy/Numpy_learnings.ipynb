{
  "nbformat": 4,
  "nbformat_minor": 0,
  "metadata": {
    "colab": {
      "provenance": [],
      "authorship_tag": "ABX9TyPVntMUcM2PQf4yV9xZvzSS",
      "include_colab_link": true
    },
    "kernelspec": {
      "name": "python3",
      "display_name": "Python 3"
    },
    "language_info": {
      "name": "python"
    }
  },
  "cells": [
    {
      "cell_type": "markdown",
      "metadata": {
        "id": "view-in-github",
        "colab_type": "text"
      },
      "source": [
        "<a href=\"https://colab.research.google.com/github/SSP-29/ML_24/blob/main/Numpy_ML.ipynb\" target=\"_parent\"><img src=\"https://colab.research.google.com/assets/colab-badge.svg\" alt=\"Open In Colab\"/></a>"
      ]
    },
    {
      "cell_type": "code",
      "execution_count": null,
      "metadata": {
        "id": "aLl4CL0zadSd"
      },
      "outputs": [],
      "source": []
    },
    {
      "cell_type": "markdown",
      "source": [
        "# **Numpy Library**\n",
        "\n",
        "---\n",
        "\n"
      ],
      "metadata": {
        "id": "A54JrWzZagSj"
      }
    },
    {
      "cell_type": "markdown",
      "source": [
        "***1.Creating a single dimensional and multi dimensional arrays using numpy library.***\n",
        "\n",
        "---\n",
        "\n"
      ],
      "metadata": {
        "id": "fGZyukB6alDi"
      }
    },
    {
      "cell_type": "code",
      "source": [
        "#Single dimensional Array\n",
        "import numpy as np\n",
        "n1 = np.array([10,20,30,40])\n",
        "n1"
      ],
      "metadata": {
        "colab": {
          "base_uri": "https://localhost:8080/"
        },
        "id": "WsGqV8_ka4Da",
        "outputId": "5259f22a-029f-418e-bf9b-4c2bf53190cc"
      },
      "execution_count": null,
      "outputs": [
        {
          "output_type": "execute_result",
          "data": {
            "text/plain": [
              "array([10, 20, 30, 40])"
            ]
          },
          "metadata": {},
          "execution_count": 1
        }
      ]
    },
    {
      "cell_type": "code",
      "source": [
        "#Multi dimensional Array\n",
        "import numpy as np\n",
        "n2 = np.array([[10,20,30,40],[40,30,20,10]])\n",
        "n2\n"
      ],
      "metadata": {
        "colab": {
          "base_uri": "https://localhost:8080/"
        },
        "id": "aYEGldezbEoQ",
        "outputId": "27498852-b903-498c-bba8-274a5e39968a"
      },
      "execution_count": null,
      "outputs": [
        {
          "output_type": "execute_result",
          "data": {
            "text/plain": [
              "array([[10, 20, 30, 40],\n",
              "       [40, 30, 20, 10]])"
            ]
          },
          "metadata": {},
          "execution_count": 4
        }
      ]
    },
    {
      "cell_type": "code",
      "source": [
        "type(n1)"
      ],
      "metadata": {
        "colab": {
          "base_uri": "https://localhost:8080/"
        },
        "id": "1bIvSpjXb6bl",
        "outputId": "bf647ec9-5fc5-4aa4-b20a-c336f08a83c0"
      },
      "execution_count": null,
      "outputs": [
        {
          "output_type": "execute_result",
          "data": {
            "text/plain": [
              "numpy.ndarray"
            ]
          },
          "metadata": {},
          "execution_count": 5
        }
      ]
    },
    {
      "cell_type": "code",
      "source": [],
      "metadata": {
        "id": "YjjEm-gab8Nm"
      },
      "execution_count": null,
      "outputs": []
    },
    {
      "cell_type": "markdown",
      "source": [
        "# **2.Initializing the array**"
      ],
      "metadata": {
        "id": "t1dxBcFJdS8u"
      }
    },
    {
      "cell_type": "code",
      "source": [],
      "metadata": {
        "id": "1As907UzdXUw"
      },
      "execution_count": null,
      "outputs": []
    },
    {
      "cell_type": "markdown",
      "source": [
        "***Initializing the array with zeros***\n",
        "\n",
        "---\n",
        "\n"
      ],
      "metadata": {
        "id": "ypgcOYm4dX8M"
      }
    },
    {
      "cell_type": "code",
      "source": [
        "import numpy as np\n",
        "n3=np.zeros((5,5))\n",
        "n3"
      ],
      "metadata": {
        "colab": {
          "base_uri": "https://localhost:8080/"
        },
        "id": "qoHHHu7-dlnn",
        "outputId": "47976764-8497-4e21-dbf6-1b29ed041ef9"
      },
      "execution_count": null,
      "outputs": [
        {
          "output_type": "execute_result",
          "data": {
            "text/plain": [
              "array([[0., 0., 0., 0., 0.],\n",
              "       [0., 0., 0., 0., 0.],\n",
              "       [0., 0., 0., 0., 0.],\n",
              "       [0., 0., 0., 0., 0.],\n",
              "       [0., 0., 0., 0., 0.]])"
            ]
          },
          "metadata": {},
          "execution_count": 6
        }
      ]
    },
    {
      "cell_type": "code",
      "source": [
        "import numpy as np\n",
        "n4 = np.zeros((2,3))\n",
        "n4"
      ],
      "metadata": {
        "colab": {
          "base_uri": "https://localhost:8080/"
        },
        "id": "MyIbEZLod88B",
        "outputId": "b8983b4a-d22b-4c02-ca84-5a4323004d19"
      },
      "execution_count": null,
      "outputs": [
        {
          "output_type": "execute_result",
          "data": {
            "text/plain": [
              "array([[0., 0., 0.],\n",
              "       [0., 0., 0.]])"
            ]
          },
          "metadata": {},
          "execution_count": 7
        }
      ]
    },
    {
      "cell_type": "markdown",
      "source": [
        "***Initializing the NumPy array with same number***\n",
        "\n",
        "---\n",
        "\n",
        "\n",
        "\n",
        "\n"
      ],
      "metadata": {
        "id": "dH8BlqT6eH0P"
      }
    },
    {
      "cell_type": "code",
      "source": [
        "import numpy as np\n",
        "n1 = np.full((2,2),15)\n",
        "n1"
      ],
      "metadata": {
        "colab": {
          "base_uri": "https://localhost:8080/"
        },
        "id": "EIo4JfTceoRH",
        "outputId": "721de4bd-72fa-4be7-e108-18ad257153bc"
      },
      "execution_count": null,
      "outputs": [
        {
          "output_type": "execute_result",
          "data": {
            "text/plain": [
              "array([[15, 15],\n",
              "       [15, 15]])"
            ]
          },
          "metadata": {},
          "execution_count": 8
        }
      ]
    },
    {
      "cell_type": "code",
      "source": [
        "n6 = np.full((3,6),8)\n",
        "n6"
      ],
      "metadata": {
        "colab": {
          "base_uri": "https://localhost:8080/"
        },
        "id": "oK-SCEHffXCM",
        "outputId": "c983d72f-85e5-4101-90f2-2f5e894dcfe1"
      },
      "execution_count": null,
      "outputs": [
        {
          "output_type": "execute_result",
          "data": {
            "text/plain": [
              "array([[8, 8, 8, 8, 8, 8],\n",
              "       [8, 8, 8, 8, 8, 8],\n",
              "       [8, 8, 8, 8, 8, 8]])"
            ]
          },
          "metadata": {},
          "execution_count": 9
        }
      ]
    },
    {
      "cell_type": "markdown",
      "source": [
        "***Initializing NumPy array within a range***\n",
        "\n",
        "---\n",
        "\n"
      ],
      "metadata": {
        "id": "NCFvCqWmfvgX"
      }
    },
    {
      "cell_type": "code",
      "source": [
        "import numpy as np\n",
        "n2 = np.arange(1,51)\n",
        "n2"
      ],
      "metadata": {
        "colab": {
          "base_uri": "https://localhost:8080/"
        },
        "id": "JWHDOijNfhSr",
        "outputId": "21ebe925-2338-4db3-a268-8df19d3ea278"
      },
      "execution_count": null,
      "outputs": [
        {
          "output_type": "execute_result",
          "data": {
            "text/plain": [
              "array([ 1,  2,  3,  4,  5,  6,  7,  8,  9, 10, 11, 12, 13, 14, 15, 16, 17,\n",
              "       18, 19, 20, 21, 22, 23, 24, 25, 26, 27, 28, 29, 30, 31, 32, 33, 34,\n",
              "       35, 36, 37, 38, 39, 40, 41, 42, 43, 44, 45, 46, 47, 48, 49, 50])"
            ]
          },
          "metadata": {},
          "execution_count": 11
        }
      ]
    },
    {
      "cell_type": "code",
      "source": [
        "#skipping 10,20.....100\n",
        "n3 =np.arange(1,105,10)\n",
        "n3"
      ],
      "metadata": {
        "colab": {
          "base_uri": "https://localhost:8080/"
        },
        "id": "9_dVsh-Sg_s3",
        "outputId": "ce6f1f75-6ee4-4cf3-cc83-7c7cd47cb6a0"
      },
      "execution_count": null,
      "outputs": [
        {
          "output_type": "execute_result",
          "data": {
            "text/plain": [
              "array([  1,  11,  21,  31,  41,  51,  61,  71,  81,  91, 101])"
            ]
          },
          "metadata": {},
          "execution_count": 13
        }
      ]
    },
    {
      "cell_type": "markdown",
      "source": [
        "***Initializing NumPy array with random numbers***\n",
        "\n",
        "---\n",
        "\n"
      ],
      "metadata": {
        "id": "TXEivSg5hTn2"
      }
    },
    {
      "cell_type": "code",
      "source": [
        "#printing 5 random numbers from 1-100\n",
        "import numpy as np\n",
        "n1 = np.random.randint(1,100,5)\n",
        "n1"
      ],
      "metadata": {
        "colab": {
          "base_uri": "https://localhost:8080/"
        },
        "id": "SQTMNHzhhgBz",
        "outputId": "0ac18e1f-c901-4366-b002-d880c981a899"
      },
      "execution_count": null,
      "outputs": [
        {
          "output_type": "execute_result",
          "data": {
            "text/plain": [
              "array([52, 96, 43, 51, 66])"
            ]
          },
          "metadata": {},
          "execution_count": 15
        }
      ]
    },
    {
      "cell_type": "markdown",
      "source": [
        "# **3.NumPy-Shape**\n",
        "\n",
        "---\n",
        "\n"
      ],
      "metadata": {
        "id": "2Uew1CaUrXDZ"
      }
    },
    {
      "cell_type": "markdown",
      "source": [
        "***Checking the shape of Numpy Arrays***\n",
        "\n",
        "---\n",
        "\n"
      ],
      "metadata": {
        "id": "4dnOY605rfPe"
      }
    },
    {
      "cell_type": "code",
      "source": [
        "import numpy as np\n",
        "n1 = np.array([[1,2,3],[4,5,6]])\n",
        "\n",
        "\n",
        "n1"
      ],
      "metadata": {
        "colab": {
          "base_uri": "https://localhost:8080/"
        },
        "id": "j5faM8vJpvE_",
        "outputId": "3d0c231e-c0ec-4bfa-9f6a-3c2548fbf33a"
      },
      "execution_count": null,
      "outputs": [
        {
          "output_type": "execute_result",
          "data": {
            "text/plain": [
              "array([[1, 2, 3],\n",
              "       [4, 5, 6]])"
            ]
          },
          "metadata": {},
          "execution_count": 19
        }
      ]
    },
    {
      "cell_type": "code",
      "source": [
        "n1.shape"
      ],
      "metadata": {
        "colab": {
          "base_uri": "https://localhost:8080/"
        },
        "id": "wmBFlzKtsLrn",
        "outputId": "2c552e45-24c4-4b62-ca5b-8e7940d99907"
      },
      "execution_count": null,
      "outputs": [
        {
          "output_type": "execute_result",
          "data": {
            "text/plain": [
              "(2, 3)"
            ]
          },
          "metadata": {},
          "execution_count": 20
        }
      ]
    },
    {
      "cell_type": "code",
      "source": [
        "#changing the shape\n",
        "n1.shape = (3,2)\n",
        "n1.shape"
      ],
      "metadata": {
        "colab": {
          "base_uri": "https://localhost:8080/"
        },
        "id": "xSbJTuJOry9u",
        "outputId": "ef8e60ac-5fd9-4688-aa38-6e168a4d7250"
      },
      "execution_count": null,
      "outputs": [
        {
          "output_type": "execute_result",
          "data": {
            "text/plain": [
              "(3, 2)"
            ]
          },
          "metadata": {},
          "execution_count": 17
        }
      ]
    },
    {
      "cell_type": "markdown",
      "source": [
        "# **4.Joining NumPy Arrays**\n",
        "\n",
        "---\n",
        "\n"
      ],
      "metadata": {
        "id": "NwnGcgsJsOkv"
      }
    },
    {
      "cell_type": "code",
      "source": [
        "#Vertical Stack\n",
        "n1 = np.array([10,20,30])\n",
        "n2 = np.array([40,50,60])\n",
        "np.vstack((n1,n2))"
      ],
      "metadata": {
        "colab": {
          "base_uri": "https://localhost:8080/"
        },
        "id": "qNwhclzvsVUr",
        "outputId": "499fdc0d-74b1-4e11-a300-84c6eadb139d"
      },
      "execution_count": null,
      "outputs": [
        {
          "output_type": "execute_result",
          "data": {
            "text/plain": [
              "array([[10, 20, 30],\n",
              "       [40, 50, 60]])"
            ]
          },
          "metadata": {},
          "execution_count": 23
        }
      ]
    },
    {
      "cell_type": "code",
      "source": [
        "#Horizontal Stack\n",
        "n1 = np.array([10,20,30])\n",
        "n2 = np.array([40,50,60])\n",
        "np.hstack((n1,n2))"
      ],
      "metadata": {
        "colab": {
          "base_uri": "https://localhost:8080/"
        },
        "id": "46pDjX_vvPs6",
        "outputId": "3377a2f5-9da2-44c3-ba45-02736ee251e1"
      },
      "execution_count": null,
      "outputs": [
        {
          "output_type": "execute_result",
          "data": {
            "text/plain": [
              "array([10, 20, 30, 40, 50, 60])"
            ]
          },
          "metadata": {},
          "execution_count": 24
        }
      ]
    },
    {
      "cell_type": "code",
      "source": [
        "#Column Stack\n",
        "n1 = np.array([10,20,30])\n",
        "n2 = np.array([40,50,60])\n",
        "np.column_stack((n1,n2))"
      ],
      "metadata": {
        "colab": {
          "base_uri": "https://localhost:8080/"
        },
        "id": "FoBvvjWUvUmC",
        "outputId": "a7e0472d-b05c-4706-ff57-a6bae3d658cc"
      },
      "execution_count": null,
      "outputs": [
        {
          "output_type": "execute_result",
          "data": {
            "text/plain": [
              "array([[10, 40],\n",
              "       [20, 50],\n",
              "       [30, 60]])"
            ]
          },
          "metadata": {},
          "execution_count": 25
        }
      ]
    },
    {
      "cell_type": "markdown",
      "source": [
        "# **5.NumPy Intersection & Difference**\n",
        "\n",
        "---\n",
        "\n"
      ],
      "metadata": {
        "id": "TtDDwSKVwGAJ"
      }
    },
    {
      "cell_type": "code",
      "source": [
        "import numpy as np\n",
        "n1 = np.array([10,20,30,40,50,60])\n",
        "n2 = np.array([50,60,70,80,90])\n",
        "np.intersect1d(n1,n2)"
      ],
      "metadata": {
        "colab": {
          "base_uri": "https://localhost:8080/"
        },
        "id": "U8-s3jw3wMOi",
        "outputId": "5061529d-244c-45b7-b613-865ccf72370a"
      },
      "execution_count": null,
      "outputs": [
        {
          "output_type": "execute_result",
          "data": {
            "text/plain": [
              "array([50, 60])"
            ]
          },
          "metadata": {},
          "execution_count": 26
        }
      ]
    },
    {
      "cell_type": "code",
      "source": [
        "np.setdiff1d(n1,n2)"
      ],
      "metadata": {
        "colab": {
          "base_uri": "https://localhost:8080/"
        },
        "id": "zIDjDGlBy5BJ",
        "outputId": "bc6ab12c-841a-40cb-c74d-77c34e98b29d"
      },
      "execution_count": null,
      "outputs": [
        {
          "output_type": "execute_result",
          "data": {
            "text/plain": [
              "array([10, 20, 30, 40])"
            ]
          },
          "metadata": {},
          "execution_count": 27
        }
      ]
    },
    {
      "cell_type": "code",
      "source": [
        "np.setdiff1d(n2,n1)"
      ],
      "metadata": {
        "colab": {
          "base_uri": "https://localhost:8080/"
        },
        "id": "xFmCyZByzIHN",
        "outputId": "57582aca-1db2-424e-87cc-61331d956f34"
      },
      "execution_count": null,
      "outputs": [
        {
          "output_type": "execute_result",
          "data": {
            "text/plain": [
              "array([70, 80, 90])"
            ]
          },
          "metadata": {},
          "execution_count": 28
        }
      ]
    },
    {
      "cell_type": "markdown",
      "source": [
        "# **6.NumPy Array Mathematics**\n",
        "\n",
        "---\n",
        "\n"
      ],
      "metadata": {
        "id": "cC-6wP9yzS_o"
      }
    },
    {
      "cell_type": "markdown",
      "source": [
        "***Addition of NumPy Arrays***\n",
        "\n",
        "---\n",
        "\n"
      ],
      "metadata": {
        "id": "-1T24-zo0ryT"
      }
    },
    {
      "cell_type": "code",
      "source": [
        "import numpy as np\n",
        "n1 = np.array([10,20])\n",
        "n2 = np.array([30,40])\n",
        "print(\"Sum:\",np.sum([n1,n2]))\n",
        "# or u may write np.sum([n1,n2])"
      ],
      "metadata": {
        "colab": {
          "base_uri": "https://localhost:8080/"
        },
        "id": "GF2lgHGdzZEQ",
        "outputId": "b918de39-53ab-4710-acd4-1b3022a89a90"
      },
      "execution_count": null,
      "outputs": [
        {
          "output_type": "stream",
          "name": "stdout",
          "text": [
            "Sum: 100\n"
          ]
        }
      ]
    },
    {
      "cell_type": "code",
      "source": [
        "np.sum([n1,n2],axis = 0)"
      ],
      "metadata": {
        "colab": {
          "base_uri": "https://localhost:8080/"
        },
        "id": "THM2onC62RGv",
        "outputId": "1c0790a9-9f32-4f69-c877-c06f83f2e555"
      },
      "execution_count": null,
      "outputs": [
        {
          "output_type": "execute_result",
          "data": {
            "text/plain": [
              "array([40, 60])"
            ]
          },
          "metadata": {},
          "execution_count": 31
        }
      ]
    },
    {
      "cell_type": "code",
      "source": [
        "np.sum([n1,n2],axis = 1)"
      ],
      "metadata": {
        "colab": {
          "base_uri": "https://localhost:8080/"
        },
        "id": "DjLScRyt2efc",
        "outputId": "daf0156b-b02a-4de9-cce1-d3c7b4e46fb1"
      },
      "execution_count": null,
      "outputs": [
        {
          "output_type": "execute_result",
          "data": {
            "text/plain": [
              "array([30, 70])"
            ]
          },
          "metadata": {},
          "execution_count": 32
        }
      ]
    },
    {
      "cell_type": "markdown",
      "source": [
        "# **7.Basic Mathematics**"
      ],
      "metadata": {
        "id": "LKVRCojsZdhq"
      }
    },
    {
      "cell_type": "markdown",
      "source": [
        "***Basic Addition***\n",
        "\n",
        "---\n",
        "\n"
      ],
      "metadata": {
        "id": "UG0IxW0paBfU"
      }
    },
    {
      "cell_type": "code",
      "source": [
        "import numpy as np\n",
        "n1 = np.array([10,20,30,40])\n",
        "n1 = n1+1\n",
        "n1"
      ],
      "metadata": {
        "id": "vFEMkIG92j4L",
        "colab": {
          "base_uri": "https://localhost:8080/"
        },
        "outputId": "738532c7-a76c-4c07-9d25-f20648680339"
      },
      "execution_count": null,
      "outputs": [
        {
          "output_type": "execute_result",
          "data": {
            "text/plain": [
              "array([11, 21, 31, 41])"
            ]
          },
          "metadata": {},
          "execution_count": 2
        }
      ]
    },
    {
      "cell_type": "markdown",
      "source": [
        "***Basic Subtraction***\n",
        "\n",
        "---\n",
        "\n"
      ],
      "metadata": {
        "id": "OH-wZ9-faVEY"
      }
    },
    {
      "cell_type": "code",
      "source": [
        "import numpy as np\n",
        "n1 = np.array([10,20,30,40])\n",
        "n1 = n1-1\n",
        "n1"
      ],
      "metadata": {
        "colab": {
          "base_uri": "https://localhost:8080/"
        },
        "id": "tV1apI0CaMYH",
        "outputId": "c576ee8c-a389-4a28-abf2-e13da26e1c33"
      },
      "execution_count": null,
      "outputs": [
        {
          "output_type": "execute_result",
          "data": {
            "text/plain": [
              "array([ 9, 19, 29, 39])"
            ]
          },
          "metadata": {},
          "execution_count": 3
        }
      ]
    },
    {
      "cell_type": "markdown",
      "source": [
        "***Basic Multiplication***\n",
        "\n",
        "---\n",
        "\n"
      ],
      "metadata": {
        "id": "JvkHnB68ac32"
      }
    },
    {
      "cell_type": "code",
      "source": [
        "import numpy as np\n",
        "n1 = np.array([10,20,30,40])\n",
        "n1 = n1*2\n",
        "n1"
      ],
      "metadata": {
        "colab": {
          "base_uri": "https://localhost:8080/"
        },
        "id": "h-5u4Yu3ab08",
        "outputId": "121b6242-5430-43fc-b901-efba16947c4d"
      },
      "execution_count": null,
      "outputs": [
        {
          "output_type": "execute_result",
          "data": {
            "text/plain": [
              "array([20, 40, 60, 80])"
            ]
          },
          "metadata": {},
          "execution_count": 4
        }
      ]
    },
    {
      "cell_type": "markdown",
      "source": [
        "***Basic Division***"
      ],
      "metadata": {
        "id": "Hr_liYtTfRTr"
      }
    },
    {
      "cell_type": "code",
      "source": [
        "import numpy as np\n",
        "n1 = np.array([10,20,30,40])\n",
        "n1 = n1/2\n",
        "n1"
      ],
      "metadata": {
        "colab": {
          "base_uri": "https://localhost:8080/"
        },
        "id": "eEYebATafLgR",
        "outputId": "be14bd4c-48a8-416b-9b57-94db864b63b1"
      },
      "execution_count": null,
      "outputs": [
        {
          "output_type": "execute_result",
          "data": {
            "text/plain": [
              "array([ 5., 10., 15., 20.])"
            ]
          },
          "metadata": {},
          "execution_count": 5
        }
      ]
    },
    {
      "cell_type": "markdown",
      "source": [
        "# **8.NumPy Math Functions**\n",
        "\n",
        "---\n",
        "\n"
      ],
      "metadata": {
        "id": "Q0mIdlujfk90"
      }
    },
    {
      "cell_type": "markdown",
      "source": [
        "***Mean***"
      ],
      "metadata": {
        "id": "U4h6mMEkfrSa"
      }
    },
    {
      "cell_type": "code",
      "source": [
        "import numpy as np\n",
        "n1 = np.array([10,20,30,40,50,60,70,80])\n",
        "np.mean(n1)\n"
      ],
      "metadata": {
        "colab": {
          "base_uri": "https://localhost:8080/"
        },
        "id": "kyF4oH2NfqW5",
        "outputId": "50e27717-3198-4243-d27f-807a03ce2669"
      },
      "execution_count": null,
      "outputs": [
        {
          "output_type": "execute_result",
          "data": {
            "text/plain": [
              "45.0"
            ]
          },
          "metadata": {},
          "execution_count": 7
        }
      ]
    },
    {
      "cell_type": "markdown",
      "source": [
        "***Median***"
      ],
      "metadata": {
        "id": "2tnFxBHGfvPe"
      }
    },
    {
      "cell_type": "code",
      "source": [
        "import numpy as np\n",
        "n1 = np.array([11,22,33,44,55,66,77,88])\n",
        "np.median(n1)\n"
      ],
      "metadata": {
        "colab": {
          "base_uri": "https://localhost:8080/"
        },
        "id": "exNJFaTsfxLf",
        "outputId": "6bc77b92-6a3d-42d1-f02b-88706576e8b6"
      },
      "execution_count": null,
      "outputs": [
        {
          "output_type": "execute_result",
          "data": {
            "text/plain": [
              "49.5"
            ]
          },
          "metadata": {},
          "execution_count": 9
        }
      ]
    },
    {
      "cell_type": "markdown",
      "source": [
        "***Standard Deviation***"
      ],
      "metadata": {
        "id": "PAZtLF09fxp_"
      }
    },
    {
      "cell_type": "code",
      "source": [
        "import numpy as np\n",
        "n1 = np.array([10,20,30,40,50,60,70,80])\n",
        "np.std(n1)\n"
      ],
      "metadata": {
        "colab": {
          "base_uri": "https://localhost:8080/"
        },
        "id": "biS5luP8f2_n",
        "outputId": "82210536-c3c8-439d-f2b9-c845152ec92b"
      },
      "execution_count": null,
      "outputs": [
        {
          "output_type": "execute_result",
          "data": {
            "text/plain": [
              "22.9128784747792"
            ]
          },
          "metadata": {},
          "execution_count": 10
        }
      ]
    },
    {
      "cell_type": "markdown",
      "source": [
        "# **9.Saving and loading of NumPy Array**\n",
        "\n",
        "---\n",
        "\n"
      ],
      "metadata": {
        "id": "XLkNwoXEg0f6"
      }
    },
    {
      "cell_type": "code",
      "source": [
        "#Saving the Numpy Array\n",
        "import numpy as np\n",
        "n1 = np.array([10,20,30,40])\n",
        "np.save('my_numpy',n1)\n",
        "#loading Numpy Array\n",
        "n2 = np.load('my_numpy.npy')\n",
        "n2"
      ],
      "metadata": {
        "colab": {
          "base_uri": "https://localhost:8080/"
        },
        "id": "3Nq43NVCgRNs",
        "outputId": "2b4454f5-6daf-48c7-a1a4-7db933c6a26a"
      },
      "execution_count": null,
      "outputs": [
        {
          "output_type": "execute_result",
          "data": {
            "text/plain": [
              "array([10, 20, 30, 40])"
            ]
          },
          "metadata": {},
          "execution_count": 12
        }
      ]
    }
  ]
}
