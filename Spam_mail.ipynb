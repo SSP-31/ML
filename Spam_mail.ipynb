# Optional installs
!pip install pandas matplotlib seaborn scikit-learn
