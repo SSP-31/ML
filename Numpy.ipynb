{
 "cells": [
  {
   "cell_type": "code",
   "execution_count": 2,
   "id": "ba19c28e-9fab-4d0e-9903-6bdad90ee53f",
   "metadata": {},
   "outputs": [
    {
     "name": "stdout",
     "output_type": "stream",
     "text": [
      "<module 'numpy.version' from 'D:\\\\Cevi minor\\\\miniconda\\\\Lib\\\\site-packages\\\\numpy\\\\version.py'>\n",
      "2.2.6\n"
     ]
    }
   ],
   "source": [
    "import numpy as np\n",
    "print(np.version)\n",
    "print(np.__version__)"
   ]
  },
  {
   "cell_type": "markdown",
   "id": "d2336fd9-5dd1-4dc7-b350-737015186be9",
   "metadata": {},
   "source": [
    "Numpy Practice Exercises:\n",
    "\n",
    "1.Create an array of the integers from 10 to 50"
   ]
  },
  {
   "cell_type": "code",
   "execution_count": 2,
   "id": "cc5e404f-103e-4151-9769-699d797ec595",
   "metadata": {},
   "outputs": [
    {
     "name": "stdout",
     "output_type": "stream",
     "text": [
      "[10 11 12 13 14 15 16 17 18 19 20 21 22 23 24 25 26 27 28 29 30 31 32 33\n",
      " 34 35 36 37 38 39 40 41 42 43 44 45 46 47 48 49 50]\n"
     ]
    }
   ],
   "source": [
    "arr_10to50 = np.arange(10,51)\n",
    "print(arr_10to50)"
   ]
  },
  {
   "cell_type": "markdown",
   "id": "87f00b1d-cc31-4a8b-9a5e-2b72b23f2b26",
   "metadata": {},
   "source": [
    "2.Create an array of the even integers from 10 to 50\n"
   ]
  },
  {
   "cell_type": "code",
   "execution_count": 3,
   "id": "8e1a7934-a97b-4a5e-bc3a-56f1c60f32ca",
   "metadata": {},
   "outputs": [
    {
     "name": "stdout",
     "output_type": "stream",
     "text": [
      "[10 12 14 16 18 20 22 24 26 28 30 32 34 36 38 40 42 44 46 48 50]\n"
     ]
    }
   ],
   "source": [
    "arr_10to50_even = np.arange(10,51,2)\n",
    "print(arr_10to50_even)"
   ]
  },
  {
   "cell_type": "markdown",
   "id": "8cc62b2a-2b39-4f6d-8c44-a9927412825c",
   "metadata": {},
   "source": [
    "3. Creates a 3x3 matrix with values ranging from 1 to 9"
   ]
  },
  {
   "cell_type": "code",
   "execution_count": 4,
   "id": "cefe00e9-939c-49d2-8a7f-8f7991bd924a",
   "metadata": {},
   "outputs": [
    {
     "data": {
      "text/plain": [
       "array([[1, 2, 3],\n",
       "       [4, 5, 6],\n",
       "       [7, 8, 9]])"
      ]
     },
     "execution_count": 4,
     "metadata": {},
     "output_type": "execute_result"
    }
   ],
   "source": [
    "np.arange(1,10).reshape(3,3)"
   ]
  },
  {
   "cell_type": "markdown",
   "id": "d1f01ac6-0147-4b75-b721-65ca976732bd",
   "metadata": {},
   "source": [
    "4. Use NumPy to generate a random number between 0 and 1"
   ]
  },
  {
   "cell_type": "code",
   "execution_count": 5,
   "id": "9aa3f712-6b9a-435a-a1f5-af5aa858cd1a",
   "metadata": {},
   "outputs": [
    {
     "data": {
      "text/plain": [
       "array([0.45629198])"
      ]
     },
     "execution_count": 5,
     "metadata": {},
     "output_type": "execute_result"
    }
   ],
   "source": [
    "np.random.rand(1)"
   ]
  },
  {
   "cell_type": "markdown",
   "id": "5b68e684-aa8c-4bc1-b056-f54059e28174",
   "metadata": {},
   "source": [
    "5. Use NumPy to generate 25 random numbers sampled from a standard normal distribution"
   ]
  },
  {
   "cell_type": "code",
   "execution_count": 6,
   "id": "5d9f8618-b690-4780-ae9e-ada976fa8598",
   "metadata": {},
   "outputs": [
    {
     "data": {
      "text/plain": [
       "array([ 0.74271775, -0.06869448, -0.87531354, -0.85537362,  0.54161864,\n",
       "        0.43292256,  0.1654708 ,  0.53470139,  1.45123749,  0.3926801 ,\n",
       "        0.93023741,  1.76364622,  2.04400366, -0.3310806 , -1.7518538 ,\n",
       "       -1.16984882, -0.00448951,  0.51726425, -0.65083505, -0.34558106,\n",
       "       -0.44169827, -1.71635827,  0.59974461,  0.96688097, -1.24052458])"
      ]
     },
     "execution_count": 6,
     "metadata": {},
     "output_type": "execute_result"
    }
   ],
   "source": [
    "np.random.randn(25)"
   ]
  },
  {
   "cell_type": "markdown",
   "id": "b9816a62-4297-431b-a45d-edb81d3d79a5",
   "metadata": {},
   "source": [
    "6. Create a matrix of 100 items spaced equally at 0.01 steps ranged fro 0.01 to 1"
   ]
  },
  {
   "cell_type": "code",
   "execution_count": 9,
   "id": "46263e37-c229-4996-8079-1a3ba72d82dc",
   "metadata": {},
   "outputs": [
    {
     "data": {
      "text/plain": [
       "array([[0.01, 0.02, 0.03, 0.04, 0.05, 0.06, 0.07, 0.08, 0.09, 0.1 ],\n",
       "       [0.11, 0.12, 0.13, 0.14, 0.15, 0.16, 0.17, 0.18, 0.19, 0.2 ],\n",
       "       [0.21, 0.22, 0.23, 0.24, 0.25, 0.26, 0.27, 0.28, 0.29, 0.3 ],\n",
       "       [0.31, 0.32, 0.33, 0.34, 0.35, 0.36, 0.37, 0.38, 0.39, 0.4 ],\n",
       "       [0.41, 0.42, 0.43, 0.44, 0.45, 0.46, 0.47, 0.48, 0.49, 0.5 ],\n",
       "       [0.51, 0.52, 0.53, 0.54, 0.55, 0.56, 0.57, 0.58, 0.59, 0.6 ],\n",
       "       [0.61, 0.62, 0.63, 0.64, 0.65, 0.66, 0.67, 0.68, 0.69, 0.7 ],\n",
       "       [0.71, 0.72, 0.73, 0.74, 0.75, 0.76, 0.77, 0.78, 0.79, 0.8 ],\n",
       "       [0.81, 0.82, 0.83, 0.84, 0.85, 0.86, 0.87, 0.88, 0.89, 0.9 ],\n",
       "       [0.91, 0.92, 0.93, 0.94, 0.95, 0.96, 0.97, 0.98, 0.99, 1.  ]])"
      ]
     },
     "execution_count": 9,
     "metadata": {},
     "output_type": "execute_result"
    }
   ],
   "source": [
    "np.arange(1,101).reshape(10,10)/100\n"
   ]
  },
  {
   "cell_type": "code",
   "execution_count": 10,
   "id": "9069c7cc-7a41-4cf5-b33b-522c5a18f426",
   "metadata": {},
   "outputs": [
    {
     "data": {
      "text/plain": [
       "array([[0.01, 0.02, 0.03, 0.04, 0.05, 0.06, 0.07, 0.08, 0.09, 0.1 ],\n",
       "       [0.11, 0.12, 0.13, 0.14, 0.15, 0.16, 0.17, 0.18, 0.19, 0.2 ],\n",
       "       [0.21, 0.22, 0.23, 0.24, 0.25, 0.26, 0.27, 0.28, 0.29, 0.3 ],\n",
       "       [0.31, 0.32, 0.33, 0.34, 0.35, 0.36, 0.37, 0.38, 0.39, 0.4 ],\n",
       "       [0.41, 0.42, 0.43, 0.44, 0.45, 0.46, 0.47, 0.48, 0.49, 0.5 ],\n",
       "       [0.51, 0.52, 0.53, 0.54, 0.55, 0.56, 0.57, 0.58, 0.59, 0.6 ],\n",
       "       [0.61, 0.62, 0.63, 0.64, 0.65, 0.66, 0.67, 0.68, 0.69, 0.7 ],\n",
       "       [0.71, 0.72, 0.73, 0.74, 0.75, 0.76, 0.77, 0.78, 0.79, 0.8 ],\n",
       "       [0.81, 0.82, 0.83, 0.84, 0.85, 0.86, 0.87, 0.88, 0.89, 0.9 ],\n",
       "       [0.91, 0.92, 0.93, 0.94, 0.95, 0.96, 0.97, 0.98, 0.99, 1.  ]])"
      ]
     },
     "execution_count": 10,
     "metadata": {},
     "output_type": "execute_result"
    }
   ],
   "source": [
    "# Returning the exact same result as above\n",
    "np.linspace(0.01,1, 100).reshape(10,10)"
   ]
  },
  {
   "cell_type": "markdown",
   "id": "efed2473-7600-45f8-8ef5-22f0a3d0e17d",
   "metadata": {},
   "source": [
    "7. Create an array of 20 linearly spaced points between 0 and 1"
   ]
  },
  {
   "cell_type": "code",
   "execution_count": 11,
   "id": "97a0280b-8504-4f50-a14e-be54e79a2816",
   "metadata": {},
   "outputs": [
    {
     "data": {
      "text/plain": [
       "array([0.        , 0.05263158, 0.10526316, 0.15789474, 0.21052632,\n",
       "       0.26315789, 0.31578947, 0.36842105, 0.42105263, 0.47368421,\n",
       "       0.52631579, 0.57894737, 0.63157895, 0.68421053, 0.73684211,\n",
       "       0.78947368, 0.84210526, 0.89473684, 0.94736842, 1.        ])"
      ]
     },
     "execution_count": 11,
     "metadata": {},
     "output_type": "execute_result"
    }
   ],
   "source": [
    "np.linspace(0,1, 20)"
   ]
  },
  {
   "cell_type": "markdown",
   "id": "2fc29f4f-0e89-4e62-ad37-739413d92f3c",
   "metadata": {},
   "source": [
    "Indexing and Slicing"
   ]
  },
  {
   "cell_type": "code",
   "execution_count": 12,
   "id": "7d1102a0-33d2-40c5-a73e-7e84377ac112",
   "metadata": {},
   "outputs": [
    {
     "name": "stdout",
     "output_type": "stream",
     "text": [
      "[[ 1  2  3  4  5]\n",
      " [ 6  7  8  9 10]\n",
      " [11 12 13 14 15]\n",
      " [16 17 18 19 20]\n",
      " [21 22 23 24 25]]\n"
     ]
    }
   ],
   "source": [
    "## Use this 2-Dimensional Array for this exercises \n",
    "arr_2_d = np.arange(1,26).reshape(5,5)\n",
    "print(arr_2_d)"
   ]
  },
  {
   "cell_type": "markdown",
   "id": "5b3a35aa-3217-42b4-ade3-75ac6a3e0f80",
   "metadata": {},
   "source": [
    "8. Grab element 20 of the arr_2_d array"
   ]
  },
  {
   "cell_type": "code",
   "execution_count": 13,
   "id": "c804263e-f705-4251-8ba9-46c66a4daa00",
   "metadata": {},
   "outputs": [
    {
     "data": {
      "text/plain": [
       "np.int64(20)"
      ]
     },
     "execution_count": 13,
     "metadata": {},
     "output_type": "execute_result"
    }
   ],
   "source": [
    "# That is to say:4th row and 5th column\n",
    "arr_2_d[3,4]"
   ]
  },
  {
   "cell_type": "markdown",
   "id": "4ac6e64f-538e-4f47-94af-865d30737bc9",
   "metadata": {},
   "source": [
    "9. Grab items 2, 7, 12 of the arr_2_d array"
   ]
  },
  {
   "cell_type": "code",
   "execution_count": 14,
   "id": "98f7368b-442d-4aab-bf28-46be0b33aac6",
   "metadata": {},
   "outputs": [
    {
     "data": {
      "text/plain": [
       "array([[ 2],\n",
       "       [ 7],\n",
       "       [12]])"
      ]
     },
     "execution_count": 14,
     "metadata": {},
     "output_type": "execute_result"
    }
   ],
   "source": [
    "arr_2_d[:3,1:2]\n",
    "\n",
    "# That is to say:\n",
    "#\n",
    "# for row: **Grab all from the** begining,\n",
    "#          **up to the** forth row (but not including),\n",
    "#          it rescues 3 rows in a row,\n",
    "#\n",
    "# for column: **and all from the** second \n",
    "#             **up to the** 3ª Column (bni).\n",
    "#             It rescues just one column, the second one:)"
   ]
  },
  {
   "cell_type": "markdown",
   "id": "62d549d9-e33a-4639-a30c-91ff1a05de87",
   "metadata": {},
   "source": [
    "10. Grab the last row of the arr_2_d array"
   ]
  },
  {
   "cell_type": "code",
   "execution_count": 15,
   "id": "5fe1847c-1765-41fd-96f2-a0bdee152484",
   "metadata": {},
   "outputs": [
    {
     "data": {
      "text/plain": [
       "array([[ 2],\n",
       "       [ 7],\n",
       "       [12]])"
      ]
     },
     "execution_count": 15,
     "metadata": {},
     "output_type": "execute_result"
    }
   ],
   "source": [
    "arr_2_d[:3,1:2]\n",
    "\n",
    "# That is to say:\n",
    "#\n",
    "# for row: **Grab all from the** begining,\n",
    "#          **up to the** forth row (but not including),\n",
    "#          it rescues 3 rows in a row,\n",
    "#\n",
    "# for column: **and all from the** second \n",
    "#             **up to the** 3ª Column (bni).\n",
    "#             It rescues just one column, the second one:)"
   ]
  },
  {
   "cell_type": "markdown",
   "id": "a77fd719-ab50-4f44-bb2d-7209ef6511c0",
   "metadata": {},
   "source": [
    "11. Get the sum of all the values, column values and row values in arr_2_d array"
   ]
  },
  {
   "cell_type": "code",
   "execution_count": 16,
   "id": "6bc5af99-679d-4365-894a-e777269c9183",
   "metadata": {},
   "outputs": [
    {
     "data": {
      "text/plain": [
       "np.int64(325)"
      ]
     },
     "execution_count": 16,
     "metadata": {},
     "output_type": "execute_result"
    }
   ],
   "source": [
    "# Using NumPy and pass array as parameter\n",
    "np.sum(arr_2_d)\n",
    "\n",
    "# OR\n",
    "# Use the method of the object array itself directly\n",
    "# arr_2_d.sum()"
   ]
  },
  {
   "cell_type": "code",
   "execution_count": 17,
   "id": "95afd0ec-1811-48d8-bf36-55beb33262f7",
   "metadata": {},
   "outputs": [
    {
     "data": {
      "text/plain": [
       "array([ 15,  40,  65,  90, 115])"
      ]
     },
     "execution_count": 17,
     "metadata": {},
     "output_type": "execute_result"
    }
   ],
   "source": [
    "np.sum(arr_2_d, axis=0)\n",
    "\n",
    "# axis=0 -> row -> so the result is placed in a row\n",
    "# (then it is a columns' sum)\n",
    "\n",
    "# axis=1 -> columns -> so the result is placed in a column \n",
    "# (then it is a row's sum:)\n",
    "\n",
    "np.sum(arr_2_d, axis=1)\n",
    "\n",
    "# axis=0 -> row -> so the result is placed in a row\n",
    "# (then it is a columns' sum)\n",
    "\n",
    "# axis=1 -> columns -> so the result is placed in a column \n",
    "# (then it is a row's sum:)"
   ]
  },
  {
   "cell_type": "markdown",
   "id": "e16c2ed6-88f7-4dbf-ae66-9805ed4817af",
   "metadata": {},
   "source": [
    "12. Get the standard diviation of the values in arr_2_d array"
   ]
  },
  {
   "cell_type": "code",
   "execution_count": 18,
   "id": "567a30c9-28c4-4962-967e-2ac572d92c9e",
   "metadata": {},
   "outputs": [
    {
     "data": {
      "text/plain": [
       "np.float64(7.211102550927978)"
      ]
     },
     "execution_count": 18,
     "metadata": {},
     "output_type": "execute_result"
    }
   ],
   "source": [
    "np.std(arr_2_d)\n",
    "\n",
    "# OR\n",
    "# arr_2_d.std()"
   ]
  },
  {
   "cell_type": "markdown",
   "id": "eae2d25b-fd31-42b3-a199-38df29313f90",
   "metadata": {},
   "source": [
    "13.Declare a 8x8 matrix and fill it with a checkerboard (or chess) pattern."
   ]
  },
  {
   "cell_type": "code",
   "execution_count": 3,
   "id": "846076d3-b262-4ceb-bb05-c2ed7deae068",
   "metadata": {},
   "outputs": [
    {
     "name": "stdout",
     "output_type": "stream",
     "text": [
      "[[1 0 1 0 1 0 1 0]\n",
      " [0 1 0 1 0 1 0 1]\n",
      " [1 0 1 0 1 0 1 0]\n",
      " [0 1 0 1 0 1 0 1]\n",
      " [1 0 1 0 1 0 1 0]\n",
      " [0 1 0 1 0 1 0 1]\n",
      " [1 0 1 0 1 0 1 0]\n",
      " [0 1 0 1 0 1 0 1]]\n"
     ]
    }
   ],
   "source": [
    "data = np.zeros((8,8), dtype=int)\n",
    "\n",
    "for i in range(8):\n",
    "    for j in range(8):\n",
    "        if (i % 2) == 0:\n",
    "            if (j % 2) ==0:\n",
    "                data[i,j] = 1\n",
    "        else:\n",
    "            if (j % 2):\n",
    "                data[i,j] = 1\n",
    "print(data)"
   ]
  },
  {
   "cell_type": "markdown",
   "id": "18931a1e-daa1-4436-92b4-2bde003c51af",
   "metadata": {},
   "source": [
    "Declare a 10x10 array with random values and find the minimum and maximum values."
   ]
  },
  {
   "cell_type": "code",
   "execution_count": 4,
   "id": "83ea7d74-97fa-4f81-8fe4-08045672bebf",
   "metadata": {},
   "outputs": [
    {
     "name": "stdout",
     "output_type": "stream",
     "text": [
      "[[3 4 2 3 1 2 3 1 4 3]\n",
      " [2 1 3 3 3 1 3 3 4 2]\n",
      " [1 2 2 2 1 2 1 2 1 1]\n",
      " [4 3 2 2 1 1 3 1 1 4]\n",
      " [1 1 2 3 4 4 2 3 4 1]\n",
      " [3 4 4 3 4 4 2 3 4 2]\n",
      " [3 3 1 2 1 2 1 2 3 2]\n",
      " [3 2 1 1 2 4 1 2 3 1]\n",
      " [1 4 1 2 3 1 4 4 3 2]\n",
      " [4 1 2 2 2 1 1 2 2 3]]\n",
      "\n",
      "Min: 1\n",
      "Max: 4\n"
     ]
    }
   ],
   "source": [
    "data = np.random.randint(1, 5, size=(10, 10))\n",
    "print(data)\n",
    "print()\n",
    "print('Min:', np.min(data))\n",
    "print('Max:', np.max(data))"
   ]
  },
  {
   "cell_type": "markdown",
   "id": "eaa8da03-84f4-42eb-9e44-beaf24fbceec",
   "metadata": {},
   "source": [
    "Create a random 10x2 matrix. Considering each pair represents an (x,y) co-ordinate in 2-D, obtain a matrix which contains (r,theta) in polar co-ordinate system."
   ]
  },
  {
   "cell_type": "code",
   "execution_count": 5,
   "id": "0f508d15-a4ed-4182-86ef-efd09acf4e35",
   "metadata": {},
   "outputs": [
    {
     "name": "stdout",
     "output_type": "stream",
     "text": [
      "Original Matrix (x, y):\n",
      " [[0.02730292 0.85088037]\n",
      " [0.98493648 0.82126573]\n",
      " [0.79744531 0.87772395]\n",
      " [0.11566185 0.44758212]\n",
      " [0.07126046 0.47226609]\n",
      " [0.13417666 0.84897465]\n",
      " [0.59738992 0.63700457]\n",
      " [0.05208385 0.9179881 ]\n",
      " [0.76493601 0.99529057]\n",
      " [0.67599341 0.26797461]]\n",
      "\n",
      "Matrix in Polar Coordinates (r, theta):\n",
      " [[0.8513183  1.53871948]\n",
      " [1.28241073 0.69502901]\n",
      " [1.18588294 0.83328423]\n",
      " [0.462285   1.31791365]\n",
      " [0.4776121  1.4210356 ]\n",
      " [0.85951226 1.41404731]\n",
      " [0.87329808 0.81747953]\n",
      " [0.91946445 1.51412013]\n",
      " [1.25528102 0.9155251 ]\n",
      " [0.72717087 0.37741292]]\n"
     ]
    }
   ],
   "source": [
    "import numpy as np\n",
    "\n",
    "# Create a random 10x2 matrix\n",
    "xy = np.random.rand(10, 2)\n",
    "\n",
    "# Convert to polar coordinates\n",
    "r = np.hypot(xy[:, 0], xy[:, 1])\n",
    "theta = np.arctan2(xy[:, 1], xy[:, 0])\n",
    "\n",
    "# Combine r and theta into a 10x2 matrix\n",
    "polar = np.column_stack((r, theta))\n",
    "\n",
    "print(\"Original Matrix (x, y):\\n\", xy)\n",
    "print(\"\\nMatrix in Polar Coordinates (r, theta):\\n\", polar)"
   ]
  },
  {
   "cell_type": "markdown",
   "id": "92024be1-1402-492f-9728-2729c27ebc64",
   "metadata": {},
   "source": [
    "Multiply a 5x3 matrix by a 3x2 matrix (real matrix product)"
   ]
  },
  {
   "cell_type": "code",
   "execution_count": 6,
   "id": "709b4e48-2ebb-4d5d-9905-b80a80b041e1",
   "metadata": {},
   "outputs": [
    {
     "name": "stdout",
     "output_type": "stream",
     "text": [
      "[[0.78624171 0.89830029]\n",
      " [1.25490524 1.40918712]\n",
      " [1.05900972 1.20730991]\n",
      " [1.20672987 1.25246035]\n",
      " [0.71486051 0.83567563]]\n"
     ]
    }
   ],
   "source": [
    "x = np.random.rand(5,3)\n",
    "y = np.random.rand(3,2)\n",
    "z = x@y\n",
    "print(z)"
   ]
  },
  {
   "cell_type": "markdown",
   "id": "44293905-beab-4010-aa4e-598ee59673f7",
   "metadata": {},
   "source": [
    "Numpy use a powerful idea called broadcasting. The best thing is that it is also simple to use. Example, we will execute the following in the cell below."
   ]
  },
  {
   "cell_type": "code",
   "execution_count": 7,
   "id": "68285ff5-7b07-4e96-b630-e15dec9a73b5",
   "metadata": {},
   "outputs": [
    {
     "name": "stdout",
     "output_type": "stream",
     "text": [
      "[0 1 2 3]\n",
      "[3 4 5 6]\n"
     ]
    }
   ],
   "source": [
    "x = np.arange(4)\n",
    "print(x)\n",
    "y = x + 3\n",
    "print(y)"
   ]
  },
  {
   "cell_type": "markdown",
   "id": "9d6d422a-038d-4373-8693-8188b6e061b8",
   "metadata": {},
   "source": [
    "Did you notice how 3 got added to every element of x! This is refered to as broadcasting. The concept extends when you wish to add a vector to every row (or column) of a matrix."
   ]
  },
  {
   "cell_type": "markdown",
   "id": "5cce1a6b-7af4-4ce3-bf7f-4213859f19e3",
   "metadata": {},
   "source": [
    "Can we demonstrate a computational time benefit of broadcasting? For this we will need to measure time. No worries, let's welcome the timeit package."
   ]
  },
  {
   "cell_type": "code",
   "execution_count": 8,
   "id": "4238310d-5c8e-4b7f-9863-ff6272866b30",
   "metadata": {},
   "outputs": [
    {
     "name": "stdout",
     "output_type": "stream",
     "text": [
      "Time taken: 2.049999893642962e-07\n"
     ]
    }
   ],
   "source": [
    "# importing the required module\n",
    "import timeit\n",
    "\n",
    "# code snippet to be executed only once\n",
    "test_setup = \"import numpy as np\"\n",
    "\n",
    "# code snippet to be executed only once\n",
    "test_code_1 = '''\n",
    "def example_function():\n",
    "    return np.arange(1000)\n",
    "'''\n",
    "num_runs = 1000\n",
    "time_elapsed = timeit.timeit(setup=test_setup, stmt = test_code_1, number=num_runs)\n",
    "print('Time taken: ' + str(time_elapsed/num_runs))"
   ]
  },
  {
   "cell_type": "markdown",
   "id": "2b074d20-f550-4bb2-90d4-01f195c4b391",
   "metadata": {},
   "source": [
    "A bottlenecks in code is loops, this holds especially for python code. Compared to languages like C/C++ , Python loops are relatively slower. One reason for this is the dynamically typed nature of Python.\n",
    "\n",
    "Python interpreter first goes line-by-line through the code, compiles the code into bytecode, which is then executed to run the program. Let's consider the code contains a section where it has to loop over a list. Being dynamically typed, Python has no idea what type of objects are present in the list (whether it's an integer, a string or a float). Further, this information is basically stored in every object itself, and Python can not know this in advance before actually going through the list. Hence, at each iteration python has to perform a bunch of checks every iteration like determining the type of variable, resolving it's scope, checking for any invalid operations etc.\n",
    "\n",
    "Contrasting this with C, arrays are allowed to be consisting of only one data type, which the compiler knows well ahead of time. This opens up possibility of many optimizations which are not possible in Python. For this reason, loops in python are often much slower than in C, and nested loops is where things can really get slow.\n",
    "\n",
    "In the below cell, define two random vectors x and y, each of size (1000x1). Do an elementwise multiplication of these vectors to get a new vector z. Try two approaches for this: (a) writing a function which uses a loop, (b) writing a function which the \"star\" numpy operator. Print the time for approach (a) and (b)."
   ]
  },
  {
   "cell_type": "code",
   "execution_count": 9,
   "id": "6371dfaf-0f55-41f6-8ac2-2ab88cf8aa09",
   "metadata": {},
   "outputs": [
    {
     "name": "stdout",
     "output_type": "stream",
     "text": [
      "Method 1 (loop): 0.0024924278259277344 seconds\n",
      "Method 2 (star): 0.000118255615234375 seconds\n",
      "Results match\n"
     ]
    }
   ],
   "source": [
    "import numpy as np\n",
    "import time\n",
    "\n",
    "# Define the vectors x and y\n",
    "x = np.random.rand(1000, 1)\n",
    "y = np.random.rand(1000, 1)\n",
    "\n",
    "# Method 1: Elementwise multiplication using a loop\n",
    "def elementwise_mult_loop(x, y):\n",
    "    z = np.zeros((1000, 1))\n",
    "    for i in range(1000):\n",
    "        z[i] = x[i] * y[i]\n",
    "    return z\n",
    "\n",
    "start_time = time.time()\n",
    "z1 = elementwise_mult_loop(x, y)\n",
    "end_time = time.time()\n",
    "print(\"Method 1 (loop):\", end_time - start_time, \"seconds\")\n",
    "\n",
    "# Method 2: Elementwise multiplication using the \"star\" operator\n",
    "def elementwise_mult_star(x, y):\n",
    "    z = x * y\n",
    "    return z\n",
    "\n",
    "start_time = time.time()\n",
    "z2 = elementwise_mult_star(x, y)\n",
    "end_time = time.time()\n",
    "print(\"Method 2 (star):\", end_time - start_time, \"seconds\")\n",
    "\n",
    "# Verify that the two methods produce the same result. If results don't match, it will through an error\n",
    "try:\n",
    "    assert np.allclose(z1, z2)\n",
    "    print('Results match')\n",
    "except:\n",
    "    print('Results don\\'t match!')"
   ]
  },
  {
   "cell_type": "markdown",
   "id": "2a71e6df-f19e-49f6-94ce-354fcadecaf0",
   "metadata": {},
   "source": [
    "Create a 2-D grid between (-10,10) in x-axis and (-10,10) in y-axis, with step size of .01. Generate a 2-D gaussian function on this grid, with mean = (0,0), and co-variance being an identity matrix.\n",
    "\n",
    "Plot the 2-D Gaussian using plot3D() function."
   ]
  },
  {
   "cell_type": "code",
   "execution_count": 3,
   "id": "a6aac1eb-6d28-4e5e-a9e6-1cbfd91b1392",
   "metadata": {},
   "outputs": [
    {
     "data": {
      "image/png": "[encoded data removed]",
      "text/plain": [
       "<Figure size 640x480 with 1 Axes>"
      ]
     },
     "metadata": {},
     "output_type": "display_data"
    }
   ],
   "source": [
    "\n",
    "import matplotlib.pyplot as plt\n",
    "from mpl_toolkits.mplot3d import Axes3D\n",
    "\n",
    "# Define the range and step size of the grid\n",
    "x = np.arange(-10, 10, 0.01)\n",
    "y = np.arange(-10, 10, 0.01)\n",
    "\n",
    "# Define the mean and covariance of the 2D Gaussian\n",
    "mean = [0, 0]\n",
    "cov = [[1, 0], [0, 1]]\n",
    "\n",
    "# Create a 2D Gaussian function\n",
    "def gaussian(x, y):\n",
    "    '''\n",
    "    implements the 2-D Gaussian function\n",
    "    returns the values\n",
    "    '''\n",
    "\n",
    "    data = np.zeros((len(x), len(y)), dtype=float)\n",
    "\n",
    "    mu = np.array(mean)\n",
    "    sigma = np.array(cov)\n",
    "    det = np.linalg.det(sigma)\n",
    "    inv = np.linalg.inv(sigma)\n",
    "\n",
    "    for i in range(len(x)):\n",
    "        for j in range(len(y)):\n",
    "            z = np.array([x[i], y[j]])\n",
    "            data[i,j] = np.exp(-0.5 * (z - mu) @ inv @ (z-mu).T)\n",
    "\n",
    "    return data / (2.0 * np.pi * np.sqrt(det))\n",
    "\n",
    "# Evaluate the 2D Gaussian on the grid\n",
    "Z = gaussian(x, y)\n",
    "\n",
    "# create the 2-D grid for plotting\n",
    "X, Y = np.meshgrid(x, y)\n",
    "\n",
    "# Create a 3D plot of the 2D Gaussian\n",
    "fig = plt.figure()\n",
    "ax = fig.add_subplot(111, projection='3d')\n",
    "ax.plot_surface(X, Y, Z)\n",
    "ax.set_xlabel('X')\n",
    "ax.set_ylabel('Y')\n",
    "ax.set_zlabel('Z')\n",
    "plt.show()"
   ]
  },
  {
   "cell_type": "code",
   "execution_count": null,
   "id": "40e37f41-4d38-45ad-b8e8-0d9554c259aa",
   "metadata": {},
   "outputs": [],
   "source": []
  }
 ],
 "metadata": {
  "kernelspec": {
   "display_name": "Python 3 (ipykernel)",
   "language": "python",
   "name": "python3"
  },
  "language_info": {
   "codemirror_mode": {
    "name": "ipython",
    "version": 3
   },
   "file_extension": ".py",
   "mimetype": "text/x-python",
   "name": "python",
   "nbconvert_exporter": "python",
   "pygments_lexer": "ipython3",
   "version": "3.13.2"
  }
 },
 "nbformat": 4,
 "nbformat_minor": 5
}
